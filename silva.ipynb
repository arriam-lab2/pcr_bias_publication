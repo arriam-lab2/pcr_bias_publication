{
 "cells": [
  {
   "cell_type": "code",
   "execution_count": 1,
   "metadata": {},
   "outputs": [],
   "source": [
    "import gzip\n",
    "import operator as op\n",
    "from collections import Counter\n",
    "from itertools import chain, groupby, takewhile\n",
    "from typing import Optional, Callable, Tuple, List\n",
    "from concurrent.futures import ThreadPoolExecutor\n",
    "\n",
    "import regex as re\n",
    "import numpy as np\n",
    "import seaborn as sns\n",
    "import tqdm\n",
    "from Bio import SeqIO\n",
    "from Bio.Seq import Seq\n",
    "from Bio.Alphabet import generic_rna, generic_dna\n",
    "from Bio.SeqRecord import SeqRecord\n",
    "from fn import F\n",
    "\n",
    "sns.set(color_codes=True)\n",
    "\n",
    "%matplotlib inline"
   ]
  },
  {
   "cell_type": "markdown",
   "metadata": {},
   "source": [
    "Region extraction utilities"
   ]
  },
  {
   "cell_type": "code",
   "execution_count": 2,
   "metadata": {},
   "outputs": [],
   "source": [
    "ALPHABET = {\n",
    "    'A': 'A',\n",
    "    'C': 'C',\n",
    "    'G': 'G',\n",
    "    'T': 'T',\n",
    "    'R': '[AG]',\n",
    "    'Y': '[CT]',\n",
    "    'S': '[GC]',\n",
    "    'W': '[AT]',\n",
    "    'K': '[GT]',\n",
    "    'M': '[AC]',\n",
    "    'B': '[CGT]',\n",
    "    'D': '[AGT]',\n",
    "    'H': '[ACT]',\n",
    "    'V': '[ACG]',\n",
    "    'N': '[ACGT]'\n",
    "}\n",
    "\n",
    "Primer = Callable[[str], Optional[Tuple[int, int]]]\n",
    "\n",
    "\n",
    "def mkprimer(substitutions: int, primer_sequence: str) -> Primer:\n",
    "    \"\"\"\n",
    "    Create a universal primer.\n",
    "    :param substitutions: the number of allowed mismatches\n",
    "    :param primer: An IUPAC-encoded primer sequence\n",
    "    :return: A callable that searches for the first occurrence of the primer\n",
    "             in a sequence and returns it's span (if found).\n",
    "    :raises ValueError: primer sequence contains non-IUPAC DNA characters.  \n",
    "    \"\"\"\n",
    "    try:\n",
    "        base = ''.join(ALPHABET[base] for base in primer_sequence)\n",
    "        fuzzy = f'{{s<={substitutions}}}' if substitutions else ''\n",
    "        pattern = re.compile(f'(:?{base}){fuzzy}', flags=re.BESTMATCH)\n",
    "    except KeyError as err:\n",
    "        raise ValueError(f'unknown base: {err}')\n",
    "    \n",
    "    def primer(sequence: str) -> Optional[Tuple[int, int]]:\n",
    "        match = pattern.search(sequence)\n",
    "        return match.span() if match else None\n",
    "    \n",
    "    return primer\n",
    "\n",
    "\n",
    "def extract_region(forward: Primer, reverse: Primer, seqrec: SeqRecord) -> Optional[SeqRecord]:\n",
    "    \"\"\"\n",
    "    Extract a region flanked by the primers \n",
    "    \"\"\"\n",
    "    try:\n",
    "        _, start = forward(str(seqrec.seq))\n",
    "        end, _ = reverse(str(seqrec.seq))\n",
    "    except TypeError: # can't find primers\n",
    "        return None\n",
    "    return seqrec[start:end]\n",
    "\n",
    "\n",
    "# Standard 16S rRNA V4-region forward and reverse universal primers; allow up to 2 mismatches\n",
    "fwd_primer = mkprimer(2, 'GTGCCAGCMGCCGCGGTAA')\n",
    "rev_primer = mkprimer(2, str(Seq('GGACTACVSGGGTATCTAAT', generic_dna).reverse_complement()))"
   ]
  },
  {
   "cell_type": "markdown",
   "metadata": {},
   "source": [
    "Read sequences, discard short records, extract V4 regions, discard failed records, parse taxonomy"
   ]
  },
  {
   "cell_type": "code",
   "execution_count": 3,
   "metadata": {},
   "outputs": [],
   "source": [
    "def back_transcribe(seqrec: SeqRecord) -> SeqRecord:\n",
    "    \"\"\"\n",
    "    Back-transcribe an RNA sequence record\n",
    "    \"\"\"\n",
    "    return SeqRecord(id=seqrec.id, name=seqrec.name, description=seqrec.description,\n",
    "                     seq=seqrec.seq.back_transcribe())\n",
    "\n",
    "def parse_taxonomy(seqrec: SeqRecord) -> List[str]:\n",
    "    \"\"\"\n",
    "    Parse taxonomy from SILVA sequence records\n",
    "    \"\"\"\n",
    "    return seqrec.description.split(' ', 1)[1].split(';')\n",
    "\n",
    "\n",
    "with gzip.open('taxonomy/SILVA_132_SSURef_tax_silva_trunc.fasta.gz', 'rt') as silva_buffer:\n",
    "    with ThreadPoolExecutor(4) as workers:\n",
    "        silva_seqs = (\n",
    "            F(filter, lambda seqrec: 1100 <= len(seqrec) <= 1600) >>\n",
    "            (map, back_transcribe) >> \n",
    "            (workers.map, F(extract_region, fwd_primer, rev_primer)) >> \n",
    "            (filter, bool) >> \n",
    "            list\n",
    "        )(SeqIO.parse(silva_buffer, 'fasta'))\n",
    "        silva_taxa = list(map(parse_taxonomy, silva_seqs))"
   ]
  },
  {
   "cell_type": "markdown",
   "metadata": {},
   "source": [
    "Plot sequence length distribution"
   ]
  },
  {
   "cell_type": "code",
   "execution_count": 4,
   "metadata": {},
   "outputs": [
    {
     "name": "stderr",
     "output_type": "stream",
     "text": [
      "/opt/anaconda/envs/students/lib/python3.6/site-packages/scipy/stats/stats.py:1713: FutureWarning: Using a non-tuple sequence for multidimensional indexing is deprecated; use `arr[tuple(seq)]` instead of `arr[seq]`. In the future this will be interpreted as an array index, `arr[np.array(seq)]`, which will result either in an error or a different result.\n",
      "  return np.add.reduce(sorted[indexer] * weights, axis=axis) / sumval\n"
     ]
    },
    {
     "data": {
      "text/plain": [
       "[(100, 400)]"
      ]
     },
     "execution_count": 4,
     "metadata": {},
     "output_type": "execute_result"
    },
    {
     "data": {
      "image/png": "[encoded data removed]",
      "text/plain": [
       "<Figure size 432x288 with 1 Axes>"
      ]
     },
     "metadata": {
      "needs_background": "light"
     },
     "output_type": "display_data"
    }
   ],
   "source": [
    "sns.violinplot(\n",
    "    [len(seqrec) for seqrec, tax in zip(silva_seqs, silva_taxa)]\n",
    ").set(xlim=(100, 400))"
   ]
  },
  {
   "cell_type": "markdown",
   "metadata": {},
   "source": [
    "Analyse taxonomy label distributions at all rank levels"
   ]
  },
  {
   "cell_type": "code",
   "execution_count": null,
   "metadata": {},
   "outputs": [],
   "source": []
  },
  {
   "cell_type": "markdown",
   "metadata": {},
   "source": [
    "Filter taxonomy. We've analysed the distributions of taxa labels at all levels and have found out that labels starting with lower-case words and labels containig the substring \"sp.\" almost exclusively correspond to unclassified isolates. Remove remaining eukaryotes (theoretically, they should've been discarded at the V4-extraction phase due to primer mismatch)."
   ]
  },
  {
   "cell_type": "code",
   "execution_count": 5,
   "metadata": {},
   "outputs": [
    {
     "data": {
      "text/plain": [
       "'Picked 1865548 sequences out of 1866614'"
      ]
     },
     "execution_count": 5,
     "metadata": {},
     "output_type": "execute_result"
    }
   ],
   "source": [
    "def filter_taxonomy(rule: Callable[[str], bool], taxonomy: List[str]) -> List[str]:\n",
    "    \"\"\"\n",
    "    Truncate taxonomies at first occurence of \"bad\" labels\n",
    "    :param rule: a label validation rule; good labels should evaluate as True\n",
    "    \"\"\"\n",
    "    ranks = (rank if rule(rank) else None for rank in taxonomy)\n",
    "    return list(takewhile(bool, ranks))\n",
    "\n",
    "\n",
    "good_label_rule = lambda rank: not (rank.split()[0].islower() or 'sp.' in rank)\n",
    "\n",
    "silva_seqs_noneuk, silva_taxa_noneuk_transformed = zip(*[\n",
    "    (seqrec, filter_taxonomy(good_label_rule, tax)) \n",
    "    for seqrec, tax in zip(silva_seqs, silva_taxa) if not tax[0].startswith('Euk')\n",
    "])\n",
    "f'Picked {len(silva_seqs_noneuk)} sequences out of {len(silva_seqs)}'"
   ]
  },
  {
   "cell_type": "markdown",
   "metadata": {},
   "source": [
    "Remove sequences lacking genus-level annotation and replace missing species annotations with f'unclassified {genus} isolate'"
   ]
  },
  {
   "cell_type": "code",
   "execution_count": 6,
   "metadata": {},
   "outputs": [],
   "source": [
    "silva_seqs_withgen, silva_taxa_withgen = zip(*[\n",
    "    (seqrec, (*tax, f'unclassified {tax[-1]} isolate')[:7]) \n",
    "    for seqrec, tax in zip(silva_seqs_noneuk, silva_taxa_noneuk_transformed) if len(tax) >= 6\n",
    "])"
   ]
  },
  {
   "cell_type": "markdown",
   "metadata": {},
   "source": [
    "Sanity check the most common species labels"
   ]
  },
  {
   "cell_type": "code",
   "execution_count": 7,
   "metadata": {},
   "outputs": [
    {
     "data": {
      "text/plain": [
       "[('unclassified Staphylococcus isolate', 116764),\n",
       " ('unclassified Corynebacterium 1 isolate', 61262),\n",
       " ('unclassified Cutibacterium isolate', 58012),\n",
       " ('unclassified Streptococcus isolate', 55916),\n",
       " ('unclassified Bacteroides isolate', 36719),\n",
       " ('unclassified Pseudomonas isolate', 32403),\n",
       " ('unclassified Bacillus isolate', 24142),\n",
       " ('unclassified WCHB1-32 isolate', 15526),\n",
       " ('unclassified Escherichia-Shigella isolate', 15243),\n",
       " ('unclassified Lactobacillus isolate', 13841),\n",
       " ('unclassified Acinetobacter isolate', 13690),\n",
       " ('unclassified Streptomyces isolate', 11834),\n",
       " ('unclassified Faecalibacterium isolate', 11016),\n",
       " ('unclassified Salmonella isolate', 10010),\n",
       " ('unclassified Lachnospiraceae NK4A136 group isolate', 9426),\n",
       " ('unclassified Blautia isolate', 9370),\n",
       " ('unclassified Burkholderia-Caballeronia-Paraburkholderia isolate', 8678),\n",
       " ('unclassified Cloacibacterium isolate', 8154),\n",
       " ('unclassified Neisseria isolate', 8072),\n",
       " ('unclassified Haemophilus isolate', 7969),\n",
       " ('unclassified Fusobacterium isolate', 7934),\n",
       " ('unclassified Serratia isolate', 7890),\n",
       " ('Streptococcus pneumoniae', 7719),\n",
       " ('unclassified Aquabacterium isolate', 7514),\n",
       " ('unclassified Diaphorobacter isolate', 7412),\n",
       " ('unclassified Clostridium sensu stricto 1 isolate', 7355),\n",
       " ('unclassified Enterobacter isolate', 7260),\n",
       " ('unclassified Veillonella isolate', 7085),\n",
       " ('unclassified Moraxella isolate', 6766),\n",
       " ('Escherichia coli', 6473),\n",
       " ('unclassified Candidatus Nitrosopumilus isolate', 6336),\n",
       " ('unclassified Rothia isolate', 6316),\n",
       " ('unclassified Roseburia isolate', 6315),\n",
       " ('unclassified Gemella isolate', 6127),\n",
       " ('unclassified Prevotella 9 isolate', 5918),\n",
       " ('unclassified Klebsiella isolate', 5855),\n",
       " ('unclassified Lawsonella isolate', 5829),\n",
       " ('unclassified Clade Ia isolate', 5759),\n",
       " ('unclassified Sphingomonas isolate', 5681),\n",
       " ('unclassified Mycobacterium isolate', 5391),\n",
       " ('unclassified Acidovorax isolate', 5384),\n",
       " ('unclassified Enterococcus isolate', 5066),\n",
       " ('unclassified Actinomyces isolate', 5012),\n",
       " ('unclassified Lachnoclostridium isolate', 4935),\n",
       " ('unclassified Anoxybacillus isolate', 4833),\n",
       " ('unclassified Anaerococcus isolate', 4722),\n",
       " ('unclassified Flavobacterium isolate', 4632),\n",
       " ('Staphylococcus aureus', 4600),\n",
       " ('unclassified Vibrio isolate', 4586),\n",
       " ('unclassified Porphyromonas isolate', 4467)]"
      ]
     },
     "execution_count": 7,
     "metadata": {},
     "output_type": "execute_result"
    }
   ],
   "source": [
    "species = (F(map, op.itemgetter(6)) >> Counter >> Counter.most_common)(silva_taxa_withgen)\n",
    "species[:50]"
   ]
  },
  {
   "cell_type": "markdown",
   "metadata": {},
   "source": [
    "Export results grouped by taxonomy"
   ]
  },
  {
   "cell_type": "code",
   "execution_count": 8,
   "metadata": {},
   "outputs": [
    {
     "name": "stderr",
     "output_type": "stream",
     "text": [
      "51363it [00:18, 2743.42it/s]\n"
     ]
    }
   ],
   "source": [
    "trainset = [\n",
    "    SeqRecord(id=';'.join(['Root', *tax]), name='', description='', seq=seqrec.seq)\n",
    "    for seqrec, tax in zip(silva_seqs_withgen, silva_taxa_withgen)\n",
    "]\n",
    "taxgroups = groupby(sorted(trainset, key=lambda x: x.id), lambda x: x.id)\n",
    "\n",
    "! mkdir -p taxonomy/groups\n",
    "\n",
    "for i, (_, group) in tqdm.tqdm(enumerate(taxgroups, 1)):\n",
    "    with open(f'taxonomy/groups/group{i}.fna', 'w') as groupout:\n",
    "        SeqIO.write(group, groupout, 'fasta')"
   ]
  }
 ],
 "metadata": {
  "kernelspec": {
   "display_name": "Python 3",
   "language": "python",
   "name": "python3"
  },
  "language_info": {
   "codemirror_mode": {
    "name": "ipython",
    "version": 3
   },
   "file_extension": ".py",
   "mimetype": "text/x-python",
   "name": "python",
   "nbconvert_exporter": "python",
   "pygments_lexer": "ipython3",
   "version": "3.7.1"
  }
 },
 "nbformat": 4,
 "nbformat_minor": 2
}
